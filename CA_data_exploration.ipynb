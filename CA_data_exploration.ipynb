{
 "cells": [
  {
   "cell_type": "code",
   "execution_count": 1,
   "id": "7e816fff",
   "metadata": {},
   "outputs": [],
   "source": [
    "import pandas as pd"
   ]
  },
  {
   "cell_type": "code",
   "execution_count": 26,
   "id": "f8528abf",
   "metadata": {},
   "outputs": [],
   "source": [
    "df = pd.read_csv(\"covid19_dataset/full_grouped.csv\")\n",
    "df_world_data = pd.read_csv(\"covid19_dataset/worldometer_data.csv\")\n"
   ]
  },
  {
   "cell_type": "code",
   "execution_count": 5,
   "id": "5d622ea8",
   "metadata": {},
   "outputs": [
    {
     "data": {
      "text/html": [
       "<div>\n",
       "<style scoped>\n",
       "    .dataframe tbody tr th:only-of-type {\n",
       "        vertical-align: middle;\n",
       "    }\n",
       "\n",
       "    .dataframe tbody tr th {\n",
       "        vertical-align: top;\n",
       "    }\n",
       "\n",
       "    .dataframe thead th {\n",
       "        text-align: right;\n",
       "    }\n",
       "</style>\n",
       "<table border=\"1\" class=\"dataframe\">\n",
       "  <thead>\n",
       "    <tr style=\"text-align: right;\">\n",
       "      <th></th>\n",
       "      <th>Date</th>\n",
       "      <th>Country/Region</th>\n",
       "      <th>Confirmed</th>\n",
       "      <th>Deaths</th>\n",
       "      <th>Recovered</th>\n",
       "      <th>Active</th>\n",
       "      <th>New cases</th>\n",
       "      <th>New deaths</th>\n",
       "      <th>New recovered</th>\n",
       "      <th>WHO Region</th>\n",
       "    </tr>\n",
       "  </thead>\n",
       "  <tbody>\n",
       "    <tr>\n",
       "      <th>0</th>\n",
       "      <td>2020-01-22</td>\n",
       "      <td>Afghanistan</td>\n",
       "      <td>0</td>\n",
       "      <td>0</td>\n",
       "      <td>0</td>\n",
       "      <td>0</td>\n",
       "      <td>0</td>\n",
       "      <td>0</td>\n",
       "      <td>0</td>\n",
       "      <td>Eastern Mediterranean</td>\n",
       "    </tr>\n",
       "    <tr>\n",
       "      <th>1</th>\n",
       "      <td>2020-01-22</td>\n",
       "      <td>Albania</td>\n",
       "      <td>0</td>\n",
       "      <td>0</td>\n",
       "      <td>0</td>\n",
       "      <td>0</td>\n",
       "      <td>0</td>\n",
       "      <td>0</td>\n",
       "      <td>0</td>\n",
       "      <td>Europe</td>\n",
       "    </tr>\n",
       "    <tr>\n",
       "      <th>2</th>\n",
       "      <td>2020-01-22</td>\n",
       "      <td>Algeria</td>\n",
       "      <td>0</td>\n",
       "      <td>0</td>\n",
       "      <td>0</td>\n",
       "      <td>0</td>\n",
       "      <td>0</td>\n",
       "      <td>0</td>\n",
       "      <td>0</td>\n",
       "      <td>Africa</td>\n",
       "    </tr>\n",
       "    <tr>\n",
       "      <th>3</th>\n",
       "      <td>2020-01-22</td>\n",
       "      <td>Andorra</td>\n",
       "      <td>0</td>\n",
       "      <td>0</td>\n",
       "      <td>0</td>\n",
       "      <td>0</td>\n",
       "      <td>0</td>\n",
       "      <td>0</td>\n",
       "      <td>0</td>\n",
       "      <td>Europe</td>\n",
       "    </tr>\n",
       "    <tr>\n",
       "      <th>4</th>\n",
       "      <td>2020-01-22</td>\n",
       "      <td>Angola</td>\n",
       "      <td>0</td>\n",
       "      <td>0</td>\n",
       "      <td>0</td>\n",
       "      <td>0</td>\n",
       "      <td>0</td>\n",
       "      <td>0</td>\n",
       "      <td>0</td>\n",
       "      <td>Africa</td>\n",
       "    </tr>\n",
       "  </tbody>\n",
       "</table>\n",
       "</div>"
      ],
      "text/plain": [
       "         Date Country/Region  Confirmed  Deaths  Recovered  Active  New cases  \\\n",
       "0  2020-01-22    Afghanistan          0       0          0       0          0   \n",
       "1  2020-01-22        Albania          0       0          0       0          0   \n",
       "2  2020-01-22        Algeria          0       0          0       0          0   \n",
       "3  2020-01-22        Andorra          0       0          0       0          0   \n",
       "4  2020-01-22         Angola          0       0          0       0          0   \n",
       "\n",
       "   New deaths  New recovered             WHO Region  \n",
       "0           0              0  Eastern Mediterranean  \n",
       "1           0              0                 Europe  \n",
       "2           0              0                 Africa  \n",
       "3           0              0                 Europe  \n",
       "4           0              0                 Africa  "
      ]
     },
     "execution_count": 5,
     "metadata": {},
     "output_type": "execute_result"
    }
   ],
   "source": [
    "df.head()"
   ]
  },
  {
   "cell_type": "code",
   "execution_count": 7,
   "id": "26b2b307",
   "metadata": {},
   "outputs": [
    {
     "data": {
      "text/plain": [
       "array(['Eastern Mediterranean', 'Europe', 'Africa', 'Americas',\n",
       "       'Western Pacific', 'South-East Asia'], dtype=object)"
      ]
     },
     "execution_count": 7,
     "metadata": {},
     "output_type": "execute_result"
    }
   ],
   "source": [
    "df[\"WHO Region\"].unique()"
   ]
  },
  {
   "cell_type": "code",
   "execution_count": 21,
   "id": "a5a2eb11",
   "metadata": {},
   "outputs": [
    {
     "data": {
      "text/plain": [
       "(35156, 16)"
      ]
     },
     "execution_count": 21,
     "metadata": {},
     "output_type": "execute_result"
    }
   ],
   "source": [
    "import pandas as pd\n",
    "\n",
    "# Assuming 'your_column' is the column you want to one-hot encode\n",
    "df_one_hot_regions = pd.get_dummies(df['WHO Region'], prefix='Region')\n",
    "\n",
    "# Concatenate the original DataFrame with the one-hot encoded DataFrame\n",
    "df = pd.concat([df, df_one_hot_regions], axis=1)\n",
    "\n",
    "# Drop the original column if needed\n",
    "#df = df.drop('your_column', axis=1)\n",
    "\n",
    "# Display the resulting DataFrame\n",
    "df.shape"
   ]
  },
  {
   "cell_type": "code",
   "execution_count": 28,
   "id": "3da69d4b",
   "metadata": {},
   "outputs": [
    {
     "data": {
      "text/html": [
       "<div>\n",
       "<style scoped>\n",
       "    .dataframe tbody tr th:only-of-type {\n",
       "        vertical-align: middle;\n",
       "    }\n",
       "\n",
       "    .dataframe tbody tr th {\n",
       "        vertical-align: top;\n",
       "    }\n",
       "\n",
       "    .dataframe thead th {\n",
       "        text-align: right;\n",
       "    }\n",
       "</style>\n",
       "<table border=\"1\" class=\"dataframe\">\n",
       "  <thead>\n",
       "    <tr style=\"text-align: right;\">\n",
       "      <th></th>\n",
       "      <th>Date</th>\n",
       "      <th>Country/Region</th>\n",
       "      <th>Confirmed</th>\n",
       "      <th>Deaths</th>\n",
       "      <th>Recovered</th>\n",
       "      <th>Active</th>\n",
       "      <th>New cases</th>\n",
       "      <th>New deaths</th>\n",
       "      <th>New recovered</th>\n",
       "      <th>WHO Region</th>\n",
       "    </tr>\n",
       "  </thead>\n",
       "  <tbody>\n",
       "    <tr>\n",
       "      <th>35151</th>\n",
       "      <td>2020-07-27</td>\n",
       "      <td>West Bank and Gaza</td>\n",
       "      <td>10621</td>\n",
       "      <td>78</td>\n",
       "      <td>3752</td>\n",
       "      <td>6791</td>\n",
       "      <td>152</td>\n",
       "      <td>2</td>\n",
       "      <td>0</td>\n",
       "      <td>Eastern Mediterranean</td>\n",
       "    </tr>\n",
       "    <tr>\n",
       "      <th>35152</th>\n",
       "      <td>2020-07-27</td>\n",
       "      <td>Western Sahara</td>\n",
       "      <td>10</td>\n",
       "      <td>1</td>\n",
       "      <td>8</td>\n",
       "      <td>1</td>\n",
       "      <td>0</td>\n",
       "      <td>0</td>\n",
       "      <td>0</td>\n",
       "      <td>Africa</td>\n",
       "    </tr>\n",
       "    <tr>\n",
       "      <th>35153</th>\n",
       "      <td>2020-07-27</td>\n",
       "      <td>Yemen</td>\n",
       "      <td>1691</td>\n",
       "      <td>483</td>\n",
       "      <td>833</td>\n",
       "      <td>375</td>\n",
       "      <td>10</td>\n",
       "      <td>4</td>\n",
       "      <td>36</td>\n",
       "      <td>Eastern Mediterranean</td>\n",
       "    </tr>\n",
       "    <tr>\n",
       "      <th>35154</th>\n",
       "      <td>2020-07-27</td>\n",
       "      <td>Zambia</td>\n",
       "      <td>4552</td>\n",
       "      <td>140</td>\n",
       "      <td>2815</td>\n",
       "      <td>1597</td>\n",
       "      <td>71</td>\n",
       "      <td>1</td>\n",
       "      <td>465</td>\n",
       "      <td>Africa</td>\n",
       "    </tr>\n",
       "    <tr>\n",
       "      <th>35155</th>\n",
       "      <td>2020-07-27</td>\n",
       "      <td>Zimbabwe</td>\n",
       "      <td>2704</td>\n",
       "      <td>36</td>\n",
       "      <td>542</td>\n",
       "      <td>2126</td>\n",
       "      <td>192</td>\n",
       "      <td>2</td>\n",
       "      <td>24</td>\n",
       "      <td>Africa</td>\n",
       "    </tr>\n",
       "  </tbody>\n",
       "</table>\n",
       "</div>"
      ],
      "text/plain": [
       "             Date      Country/Region  Confirmed  Deaths  Recovered  Active  \\\n",
       "35151  2020-07-27  West Bank and Gaza      10621      78       3752    6791   \n",
       "35152  2020-07-27      Western Sahara         10       1          8       1   \n",
       "35153  2020-07-27               Yemen       1691     483        833     375   \n",
       "35154  2020-07-27              Zambia       4552     140       2815    1597   \n",
       "35155  2020-07-27            Zimbabwe       2704      36        542    2126   \n",
       "\n",
       "       New cases  New deaths  New recovered             WHO Region  \n",
       "35151        152           2              0  Eastern Mediterranean  \n",
       "35152          0           0              0                 Africa  \n",
       "35153         10           4             36  Eastern Mediterranean  \n",
       "35154         71           1            465                 Africa  \n",
       "35155        192           2             24                 Africa  "
      ]
     },
     "execution_count": 28,
     "metadata": {},
     "output_type": "execute_result"
    }
   ],
   "source": [
    "df.tail()"
   ]
  },
  {
   "cell_type": "code",
   "execution_count": 24,
   "id": "b6babb7f",
   "metadata": {},
   "outputs": [
    {
     "data": {
      "text/plain": [
       "187"
      ]
     },
     "execution_count": 24,
     "metadata": {},
     "output_type": "execute_result"
    }
   ],
   "source": [
    "df[\"Country/Region\"].nunique()    "
   ]
  },
  {
   "cell_type": "code",
   "execution_count": 43,
   "id": "a6626e91",
   "metadata": {},
   "outputs": [
    {
     "data": {
      "text/plain": [
       "11011411"
      ]
     },
     "execution_count": 43,
     "metadata": {},
     "output_type": "execute_result"
    }
   ],
   "source": [
    "df[df[\"Country/Region\"]==\"US\"][\"Deaths\"].sum()"
   ]
  },
  {
   "cell_type": "code",
   "execution_count": 41,
   "id": "56a4ac98",
   "metadata": {},
   "outputs": [
    {
     "data": {
      "text/html": [
       "<div>\n",
       "<style scoped>\n",
       "    .dataframe tbody tr th:only-of-type {\n",
       "        vertical-align: middle;\n",
       "    }\n",
       "\n",
       "    .dataframe tbody tr th {\n",
       "        vertical-align: top;\n",
       "    }\n",
       "\n",
       "    .dataframe thead th {\n",
       "        text-align: right;\n",
       "    }\n",
       "</style>\n",
       "<table border=\"1\" class=\"dataframe\">\n",
       "  <thead>\n",
       "    <tr style=\"text-align: right;\">\n",
       "      <th></th>\n",
       "      <th>Country/Region</th>\n",
       "      <th>Continent</th>\n",
       "      <th>Population</th>\n",
       "      <th>TotalCases</th>\n",
       "      <th>NewCases</th>\n",
       "      <th>TotalDeaths</th>\n",
       "      <th>NewDeaths</th>\n",
       "      <th>TotalRecovered</th>\n",
       "      <th>NewRecovered</th>\n",
       "      <th>ActiveCases</th>\n",
       "      <th>Serious,Critical</th>\n",
       "      <th>Tot Cases/1M pop</th>\n",
       "      <th>Deaths/1M pop</th>\n",
       "      <th>TotalTests</th>\n",
       "      <th>Tests/1M pop</th>\n",
       "      <th>WHO Region</th>\n",
       "    </tr>\n",
       "  </thead>\n",
       "  <tbody>\n",
       "    <tr>\n",
       "      <th>0</th>\n",
       "      <td>USA</td>\n",
       "      <td>North America</td>\n",
       "      <td>331198130.0</td>\n",
       "      <td>5032179</td>\n",
       "      <td>NaN</td>\n",
       "      <td>162804.0</td>\n",
       "      <td>NaN</td>\n",
       "      <td>2576668.0</td>\n",
       "      <td>NaN</td>\n",
       "      <td>2292707.0</td>\n",
       "      <td>18296.0</td>\n",
       "      <td>15194.0</td>\n",
       "      <td>492.0</td>\n",
       "      <td>63139605.0</td>\n",
       "      <td>190640.0</td>\n",
       "      <td>Americas</td>\n",
       "    </tr>\n",
       "  </tbody>\n",
       "</table>\n",
       "</div>"
      ],
      "text/plain": [
       "  Country/Region      Continent   Population  TotalCases  NewCases  \\\n",
       "0            USA  North America  331198130.0     5032179       NaN   \n",
       "\n",
       "   TotalDeaths  NewDeaths  TotalRecovered  NewRecovered  ActiveCases  \\\n",
       "0     162804.0        NaN       2576668.0           NaN    2292707.0   \n",
       "\n",
       "   Serious,Critical  Tot Cases/1M pop  Deaths/1M pop  TotalTests  \\\n",
       "0           18296.0           15194.0          492.0  63139605.0   \n",
       "\n",
       "   Tests/1M pop WHO Region  \n",
       "0      190640.0   Americas  "
      ]
     },
     "execution_count": 41,
     "metadata": {},
     "output_type": "execute_result"
    }
   ],
   "source": [
    "df_world_data[df_world_data[\"Country/Region\"]==\"USA\"]"
   ]
  },
  {
   "cell_type": "code",
   "execution_count": null,
   "id": "2b828af7",
   "metadata": {},
   "outputs": [],
   "source": [
    "df[]"
   ]
  }
 ],
 "metadata": {
  "kernelspec": {
   "display_name": "Python 3 (ipykernel)",
   "language": "python",
   "name": "python3"
  },
  "language_info": {
   "codemirror_mode": {
    "name": "ipython",
    "version": 3
   },
   "file_extension": ".py",
   "mimetype": "text/x-python",
   "name": "python",
   "nbconvert_exporter": "python",
   "pygments_lexer": "ipython3",
   "version": "3.9.7"
  }
 },
 "nbformat": 4,
 "nbformat_minor": 5
}
