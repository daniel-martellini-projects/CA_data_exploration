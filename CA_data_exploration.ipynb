{
 "cells": [
  {
   "cell_type": "code",
   "execution_count": 1,
   "id": "7b368342",
   "metadata": {},
   "outputs": [],
   "source": [
    "import pandas as pd\n"
   ]
  },
  {
   "cell_type": "code",
   "execution_count": 2,
   "id": "50179f25",
   "metadata": {},
   "outputs": [],
   "source": [
    "\n",
    "\n",
    "# df_one_hot_regions = pd.get_dummies(df['WHO Region'], prefix='Region')\n",
    "\n",
    "\n",
    "# df = pd.concat([df, df_one_hot_regions], axis=1)\n",
    "\n",
    "\n",
    "# df.shape"
   ]
  },
  {
   "cell_type": "code",
   "execution_count": 7,
   "id": "4fbfd3dc",
   "metadata": {},
   "outputs": [],
   "source": [
    "#https://www.kaggle.com/datasets/georgesaavedra/covid19-dataset\n",
    "covid_data = pd.read_csv(\"covid19_dataset/covid-data.csv\")\n",
    "\n",
    "#https://www.kaggle.com/datasets/gpreda/covid-world-vaccination-progress\n",
    "vaccines_df= pd.read_csv(\"covid19_dataset/country_vaccinations.csv\")\n",
    "\n",
    "#https://www.kaggle.com/datasets/iamsouravbanerjee/world-population-dataset\n",
    "world_statistics =pd.read_csv(\"covid19_dataset/world_population.csv\")\n",
    "\n",
    "\n"
   ]
  },
  {
   "cell_type": "code",
   "execution_count": 10,
   "id": "a028d069",
   "metadata": {},
   "outputs": [],
   "source": [
    "columns_that_I_want = [\"date\",\"iso_code\",\"location\",\"continent\",\"new_cases\",\"total_cases\",\"new_deaths\",\"total_deaths\"]\n",
    "covid_data = covid_data[columns_that_I_want]"
   ]
  },
  {
   "cell_type": "code",
   "execution_count": 9,
   "id": "ca9eb2e2",
   "metadata": {},
   "outputs": [],
   "source": [
    "\n",
    "vaccines_df = vaccines_df[[\"date\", \"iso_code\",\"total_vaccinations\",\"people_vaccinated\",\"people_fully_vaccinated\"]]\n",
    "\n"
   ]
  },
  {
   "cell_type": "code",
   "execution_count": 12,
   "id": "875b8bad",
   "metadata": {},
   "outputs": [],
   "source": [
    "merged_df = pd.merge(covid_data, vaccines_df, on=['iso_code',\"date\"], how='left')"
   ]
  },
  {
   "cell_type": "code",
   "execution_count": 15,
   "id": "ea94101d",
   "metadata": {},
   "outputs": [],
   "source": [
    "\n",
    "columns_that_I_want = [\"CCA3\", \"2020 Population\"]\n",
    "world_statistics = world_statistics[columns_that_I_want]\n"
   ]
  },
  {
   "cell_type": "code",
   "execution_count": 16,
   "id": "6671815d",
   "metadata": {},
   "outputs": [],
   "source": [
    "merged_df = pd.merge(merged_df, world_statistics, left_on=['iso_code'], right_on=['CCA3'],how='left')\n",
    "\n",
    "#columns_to_drop = ['CCA3', 'Country']\n",
    "\n",
    "# Drop the specified columns\n",
    "#merged_df = merged_df.drop(columns=columns_to_drop)"
   ]
  },
  {
   "cell_type": "code",
   "execution_count": 20,
   "id": "e39d003b",
   "metadata": {},
   "outputs": [
    {
     "data": {
      "text/html": [
       "<div>\n",
       "<style scoped>\n",
       "    .dataframe tbody tr th:only-of-type {\n",
       "        vertical-align: middle;\n",
       "    }\n",
       "\n",
       "    .dataframe tbody tr th {\n",
       "        vertical-align: top;\n",
       "    }\n",
       "\n",
       "    .dataframe thead th {\n",
       "        text-align: right;\n",
       "    }\n",
       "</style>\n",
       "<table border=\"1\" class=\"dataframe\">\n",
       "  <thead>\n",
       "    <tr style=\"text-align: right;\">\n",
       "      <th></th>\n",
       "      <th>date</th>\n",
       "      <th>iso_code</th>\n",
       "      <th>location</th>\n",
       "      <th>continent</th>\n",
       "      <th>new_cases</th>\n",
       "      <th>total_cases</th>\n",
       "      <th>new_deaths</th>\n",
       "      <th>total_deaths</th>\n",
       "      <th>total_vaccinations</th>\n",
       "      <th>people_vaccinated</th>\n",
       "      <th>people_fully_vaccinated</th>\n",
       "      <th>CCA3</th>\n",
       "      <th>2020 Population</th>\n",
       "    </tr>\n",
       "  </thead>\n",
       "  <tbody>\n",
       "    <tr>\n",
       "      <th>164154</th>\n",
       "      <td>2022-01-22</td>\n",
       "      <td>OWID_WRL</td>\n",
       "      <td>World</td>\n",
       "      <td>NaN</td>\n",
       "      <td>2718905.0</td>\n",
       "      <td>349771587.0</td>\n",
       "      <td>6115.0</td>\n",
       "      <td>5596578.0</td>\n",
       "      <td>NaN</td>\n",
       "      <td>NaN</td>\n",
       "      <td>NaN</td>\n",
       "      <td>NaN</td>\n",
       "      <td>NaN</td>\n",
       "    </tr>\n",
       "    <tr>\n",
       "      <th>138969</th>\n",
       "      <td>2020-10-14</td>\n",
       "      <td>OWID_SAM</td>\n",
       "      <td>South America</td>\n",
       "      <td>NaN</td>\n",
       "      <td>52408.0</td>\n",
       "      <td>8784162.0</td>\n",
       "      <td>1496.0</td>\n",
       "      <td>325688.0</td>\n",
       "      <td>NaN</td>\n",
       "      <td>NaN</td>\n",
       "      <td>NaN</td>\n",
       "      <td>NaN</td>\n",
       "      <td>NaN</td>\n",
       "    </tr>\n",
       "    <tr>\n",
       "      <th>139042</th>\n",
       "      <td>2020-12-26</td>\n",
       "      <td>OWID_SAM</td>\n",
       "      <td>South America</td>\n",
       "      <td>NaN</td>\n",
       "      <td>37824.0</td>\n",
       "      <td>12844861.0</td>\n",
       "      <td>840.0</td>\n",
       "      <td>410811.0</td>\n",
       "      <td>NaN</td>\n",
       "      <td>NaN</td>\n",
       "      <td>NaN</td>\n",
       "      <td>NaN</td>\n",
       "      <td>NaN</td>\n",
       "    </tr>\n",
       "    <tr>\n",
       "      <th>158596</th>\n",
       "      <td>2021-09-13</td>\n",
       "      <td>OWID_UMC</td>\n",
       "      <td>Upper middle income</td>\n",
       "      <td>NaN</td>\n",
       "      <td>136651.0</td>\n",
       "      <td>71400314.0</td>\n",
       "      <td>3819.0</td>\n",
       "      <td>1943335.0</td>\n",
       "      <td>NaN</td>\n",
       "      <td>NaN</td>\n",
       "      <td>NaN</td>\n",
       "      <td>NaN</td>\n",
       "      <td>NaN</td>\n",
       "    </tr>\n",
       "    <tr>\n",
       "      <th>66629</th>\n",
       "      <td>2021-12-15</td>\n",
       "      <td>OWID_HIC</td>\n",
       "      <td>High income</td>\n",
       "      <td>NaN</td>\n",
       "      <td>560702.0</td>\n",
       "      <td>122076621.0</td>\n",
       "      <td>5016.0</td>\n",
       "      <td>1887499.0</td>\n",
       "      <td>NaN</td>\n",
       "      <td>NaN</td>\n",
       "      <td>NaN</td>\n",
       "      <td>NaN</td>\n",
       "      <td>NaN</td>\n",
       "    </tr>\n",
       "  </tbody>\n",
       "</table>\n",
       "</div>"
      ],
      "text/plain": [
       "              date  iso_code             location continent  new_cases  \\\n",
       "164154  2022-01-22  OWID_WRL                World       NaN  2718905.0   \n",
       "138969  2020-10-14  OWID_SAM        South America       NaN    52408.0   \n",
       "139042  2020-12-26  OWID_SAM        South America       NaN    37824.0   \n",
       "158596  2021-09-13  OWID_UMC  Upper middle income       NaN   136651.0   \n",
       "66629   2021-12-15  OWID_HIC          High income       NaN   560702.0   \n",
       "\n",
       "        total_cases  new_deaths  total_deaths  total_vaccinations  \\\n",
       "164154  349771587.0      6115.0     5596578.0                 NaN   \n",
       "138969    8784162.0      1496.0      325688.0                 NaN   \n",
       "139042   12844861.0       840.0      410811.0                 NaN   \n",
       "158596   71400314.0      3819.0     1943335.0                 NaN   \n",
       "66629   122076621.0      5016.0     1887499.0                 NaN   \n",
       "\n",
       "        people_vaccinated  people_fully_vaccinated CCA3  2020 Population  \n",
       "164154                NaN                      NaN  NaN              NaN  \n",
       "138969                NaN                      NaN  NaN              NaN  \n",
       "139042                NaN                      NaN  NaN              NaN  \n",
       "158596                NaN                      NaN  NaN              NaN  \n",
       "66629                 NaN                      NaN  NaN              NaN  "
      ]
     },
     "execution_count": 20,
     "metadata": {},
     "output_type": "execute_result"
    }
   ],
   "source": [
    "nan_values = merged_df['2020 Population'].isna()\n",
    "\n",
    "\n",
    "merged_df[nan_values].sample(5)\n",
    "\n"
   ]
  },
  {
   "cell_type": "code",
   "execution_count": 18,
   "id": "5eebca5c",
   "metadata": {},
   "outputs": [],
   "source": [
    "df_per_country = merged_df['iso_code'] !=  merged_df['iso_code'].shift()\n",
    "\n",
    "# Forward-fill the specified column only within each country\n",
    "merged_df['total_vaccinations'] = merged_df.groupby(df_per_country.cumsum())['total_vaccinations'].ffill()\n",
    "merged_df['people_vaccinated'] = merged_df.groupby(df_per_country.cumsum())['people_vaccinated'].ffill()\n",
    "merged_df['people_fully_vaccinated'] = merged_df.groupby(df_per_country.cumsum())['people_fully_vaccinated'].ffill()"
   ]
  },
  {
   "cell_type": "code",
   "execution_count": null,
   "id": "29c2e0e1",
   "metadata": {},
   "outputs": [],
   "source": [
    "merged_df_no_null_values = merged_df.fillna(0)"
   ]
  },
  {
   "cell_type": "code",
   "execution_count": null,
   "id": "5a68d9bb",
   "metadata": {},
   "outputs": [],
   "source": [
    "merged_df_no_null_values.to_csv('vaccination_data_no_null.csv', index=False)"
   ]
  },
  {
   "cell_type": "code",
   "execution_count": null,
   "id": "3089f2ac",
   "metadata": {},
   "outputs": [],
   "source": [
    "# Assuming 'merged_df' is your DataFrame and 'column_to_check' is the specific column\n",
    "column_to_check = '2020 Population'\n",
    "\n",
    "\n",
    "\n",
    "filtered_df = merged_df.dropna(subset=[column_to_check])"
   ]
  },
  {
   "cell_type": "code",
   "execution_count": null,
   "id": "337e9aa8",
   "metadata": {},
   "outputs": [],
   "source": [
    "filtered_df  = filtered_df.fillna(0)"
   ]
  },
  {
   "cell_type": "code",
   "execution_count": null,
   "id": "99a6460e",
   "metadata": {},
   "outputs": [],
   "source": [
    "filtered_df"
   ]
  },
  {
   "cell_type": "code",
   "execution_count": null,
   "id": "8ad63b27",
   "metadata": {},
   "outputs": [],
   "source": [
    "filtered_df.to_csv('vaccination_data.csv', index=False)"
   ]
  }
 ],
 "metadata": {
  "kernelspec": {
   "display_name": "Python 3 (ipykernel)",
   "language": "python",
   "name": "python3"
  },
  "language_info": {
   "codemirror_mode": {
    "name": "ipython",
    "version": 3
   },
   "file_extension": ".py",
   "mimetype": "text/x-python",
   "name": "python",
   "nbconvert_exporter": "python",
   "pygments_lexer": "ipython3",
   "version": "3.9.7"
  }
 },
 "nbformat": 4,
 "nbformat_minor": 5
}
