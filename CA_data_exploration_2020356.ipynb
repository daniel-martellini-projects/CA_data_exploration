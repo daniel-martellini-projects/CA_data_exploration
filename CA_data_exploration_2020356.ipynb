{
 "cells": [
  {
   "cell_type": "markdown",
   "id": "a2690ce7",
   "metadata": {},
   "source": [
    "# Daniel Bezerra Martellini - 2020356 "
   ]
  },
  {
   "cell_type": "markdown",
   "id": "b483f376",
   "metadata": {},
   "source": [
    "\n",
    "### My repository https://github.com/daniel-martellini-projects/CA_data_exploration"
   ]
  },
  {
   "cell_type": "code",
   "execution_count": 1,
   "id": "7b368342",
   "metadata": {},
   "outputs": [
    {
     "name": "stderr",
     "output_type": "stream",
     "text": [
      "C:\\Users\\danie\\anaconda3\\lib\\site-packages\\pandas\\core\\computation\\expressions.py:21: UserWarning: Pandas requires version '2.8.0' or newer of 'numexpr' (version '2.7.3' currently installed).\n",
      "  from pandas.core.computation.check import NUMEXPR_INSTALLED\n",
      "C:\\Users\\danie\\anaconda3\\lib\\site-packages\\pandas\\core\\arrays\\masked.py:62: UserWarning: Pandas requires version '1.3.4' or newer of 'bottleneck' (version '1.3.2' currently installed).\n",
      "  from pandas.core import (\n"
     ]
    }
   ],
   "source": [
    "import pandas as pd"
   ]
  },
  {
   "cell_type": "markdown",
   "id": "8d6607f6",
   "metadata": {},
   "source": [
    "## Reading cvs and assigning to a dataframe"
   ]
  },
  {
   "cell_type": "code",
   "execution_count": 2,
   "id": "ca64129a",
   "metadata": {},
   "outputs": [],
   "source": [
    "#https://www.kaggle.com/datasets/georgesaavedra/covid19-dataset\n",
    "covid_data = pd.read_csv(\"covid19_dataset/covid-data.csv\")\n",
    "\n",
    "#https://www.kaggle.com/datasets/gpreda/covid-world-vaccination-progress\n",
    "vaccines_data= pd.read_csv(\"covid19_dataset/country_vaccinations.csv\")\n",
    "\n",
    "#https://www.kaggle.com/datasets/iamsouravbanerjee/world-population-dataset\n",
    "world_statistics =pd.read_csv(\"covid19_dataset/world_population.csv\")"
   ]
  },
  {
   "cell_type": "markdown",
   "id": "e5bf7595",
   "metadata": {},
   "source": [
    "### Checking size of dataframes"
   ]
  },
  {
   "cell_type": "code",
   "execution_count": 3,
   "id": "bacc6e93",
   "metadata": {},
   "outputs": [
    {
     "name": "stdout",
     "output_type": "stream",
     "text": [
      "First dataset (covid data) is (166326, 67)\n",
      "Second dataset (vaccines data) is (86512, 15)\n",
      "Third dataset (population data) is (234, 17)\n"
     ]
    }
   ],
   "source": [
    "first_dataset_shape = covid_data.shape\n",
    "second_dataset_shape = vaccines_data.shape\n",
    "third_dataset_shape = world_statistics.shape\n",
    "print(f\"First dataset (covid data) is {first_dataset_shape}\")\n",
    "print(f\"Second dataset (vaccines data) is {second_dataset_shape}\")\n",
    "print(f\"Third dataset (population data) is {third_dataset_shape}\")"
   ]
  },
  {
   "cell_type": "markdown",
   "id": "ffbe6015",
   "metadata": {},
   "source": [
    "### Dropping features from those datasets by specifying the ones that I want"
   ]
  },
  {
   "cell_type": "code",
   "execution_count": 4,
   "id": "ff266363",
   "metadata": {},
   "outputs": [],
   "source": [
    "#creating a dataframe that contains data about covid cases and deaths per date and country\n",
    "columns_that_I_want = [\"date\",\"iso_code\",\"location\",\"continent\",\"new_cases\",\"total_cases\",\"new_deaths\",\"total_deaths\"]\n",
    "covid_data = covid_data[columns_that_I_want]"
   ]
  },
  {
   "cell_type": "code",
   "execution_count": 5,
   "id": "ca9eb2e2",
   "metadata": {},
   "outputs": [],
   "source": [
    "#creating a dataframe that contains data about vaccination per date and country\n",
    "columns_that_I_want =[\"date\", \"iso_code\",\"total_vaccinations\",\"people_vaccinated\",\"people_fully_vaccinated\"]\n",
    "vaccines_data = vaccines_data[columns_that_I_want]"
   ]
  },
  {
   "cell_type": "code",
   "execution_count": 6,
   "id": "11d285ed",
   "metadata": {},
   "outputs": [],
   "source": [
    "#creating a dataframe that contains country code and population\n",
    "columns_that_I_want = [\"CCA3\", \"2020 Population\",\"2022 Population\"]\n",
    "world_statistics = world_statistics[columns_that_I_want]"
   ]
  },
  {
   "cell_type": "code",
   "execution_count": 7,
   "id": "b600e265",
   "metadata": {},
   "outputs": [
    {
     "name": "stdout",
     "output_type": "stream",
     "text": [
      "First dataset (covid data) is (166326, 8)\n",
      "Second dataset (vaccines data) is (86512, 5)\n",
      "Third dataset (population data) is (234, 3)\n"
     ]
    }
   ],
   "source": [
    "first_dataset_shape = covid_data.shape\n",
    "second_dataset_shape = vaccines_data.shape\n",
    "third_dataset_shape = world_statistics.shape\n",
    "print(f\"First dataset (covid data) is {first_dataset_shape}\")\n",
    "print(f\"Second dataset (vaccines data) is {second_dataset_shape}\")\n",
    "print(f\"Third dataset (population data) is {third_dataset_shape}\")\n"
   ]
  },
  {
   "cell_type": "markdown",
   "id": "eb66a22a",
   "metadata": {},
   "source": [
    "## Merging my datasets"
   ]
  },
  {
   "cell_type": "code",
   "execution_count": 8,
   "id": "531323f1",
   "metadata": {},
   "outputs": [
    {
     "data": {
      "text/plain": [
       "(166326, 11)"
      ]
     },
     "execution_count": 8,
     "metadata": {},
     "output_type": "execute_result"
    }
   ],
   "source": [
    "#merging my dataframes based on their country code and date\n",
    "first_merge_df = pd.merge(covid_data, vaccines_data, on=['iso_code',\"date\"], how='left')\n",
    "first_merge_df.shape"
   ]
  },
  {
   "cell_type": "code",
   "execution_count": 9,
   "id": "b3b8757a",
   "metadata": {},
   "outputs": [
    {
     "data": {
      "text/html": [
       "<div>\n",
       "<style scoped>\n",
       "    .dataframe tbody tr th:only-of-type {\n",
       "        vertical-align: middle;\n",
       "    }\n",
       "\n",
       "    .dataframe tbody tr th {\n",
       "        vertical-align: top;\n",
       "    }\n",
       "\n",
       "    .dataframe thead th {\n",
       "        text-align: right;\n",
       "    }\n",
       "</style>\n",
       "<table border=\"1\" class=\"dataframe\">\n",
       "  <thead>\n",
       "    <tr style=\"text-align: right;\">\n",
       "      <th></th>\n",
       "      <th>date</th>\n",
       "      <th>iso_code</th>\n",
       "      <th>location</th>\n",
       "      <th>continent</th>\n",
       "      <th>new_cases</th>\n",
       "      <th>total_cases</th>\n",
       "      <th>new_deaths</th>\n",
       "      <th>total_deaths</th>\n",
       "      <th>total_vaccinations</th>\n",
       "      <th>people_vaccinated</th>\n",
       "      <th>people_fully_vaccinated</th>\n",
       "    </tr>\n",
       "  </thead>\n",
       "  <tbody>\n",
       "    <tr>\n",
       "      <th>0</th>\n",
       "      <td>2020-02-24</td>\n",
       "      <td>AFG</td>\n",
       "      <td>Afghanistan</td>\n",
       "      <td>Asia</td>\n",
       "      <td>5.0</td>\n",
       "      <td>5.0</td>\n",
       "      <td>NaN</td>\n",
       "      <td>NaN</td>\n",
       "      <td>NaN</td>\n",
       "      <td>NaN</td>\n",
       "      <td>NaN</td>\n",
       "    </tr>\n",
       "    <tr>\n",
       "      <th>1</th>\n",
       "      <td>2020-02-25</td>\n",
       "      <td>AFG</td>\n",
       "      <td>Afghanistan</td>\n",
       "      <td>Asia</td>\n",
       "      <td>0.0</td>\n",
       "      <td>5.0</td>\n",
       "      <td>NaN</td>\n",
       "      <td>NaN</td>\n",
       "      <td>NaN</td>\n",
       "      <td>NaN</td>\n",
       "      <td>NaN</td>\n",
       "    </tr>\n",
       "    <tr>\n",
       "      <th>2</th>\n",
       "      <td>2020-02-26</td>\n",
       "      <td>AFG</td>\n",
       "      <td>Afghanistan</td>\n",
       "      <td>Asia</td>\n",
       "      <td>0.0</td>\n",
       "      <td>5.0</td>\n",
       "      <td>NaN</td>\n",
       "      <td>NaN</td>\n",
       "      <td>NaN</td>\n",
       "      <td>NaN</td>\n",
       "      <td>NaN</td>\n",
       "    </tr>\n",
       "    <tr>\n",
       "      <th>3</th>\n",
       "      <td>2020-02-27</td>\n",
       "      <td>AFG</td>\n",
       "      <td>Afghanistan</td>\n",
       "      <td>Asia</td>\n",
       "      <td>0.0</td>\n",
       "      <td>5.0</td>\n",
       "      <td>NaN</td>\n",
       "      <td>NaN</td>\n",
       "      <td>NaN</td>\n",
       "      <td>NaN</td>\n",
       "      <td>NaN</td>\n",
       "    </tr>\n",
       "    <tr>\n",
       "      <th>4</th>\n",
       "      <td>2020-02-28</td>\n",
       "      <td>AFG</td>\n",
       "      <td>Afghanistan</td>\n",
       "      <td>Asia</td>\n",
       "      <td>0.0</td>\n",
       "      <td>5.0</td>\n",
       "      <td>NaN</td>\n",
       "      <td>NaN</td>\n",
       "      <td>NaN</td>\n",
       "      <td>NaN</td>\n",
       "      <td>NaN</td>\n",
       "    </tr>\n",
       "    <tr>\n",
       "      <th>...</th>\n",
       "      <td>...</td>\n",
       "      <td>...</td>\n",
       "      <td>...</td>\n",
       "      <td>...</td>\n",
       "      <td>...</td>\n",
       "      <td>...</td>\n",
       "      <td>...</td>\n",
       "      <td>...</td>\n",
       "      <td>...</td>\n",
       "      <td>...</td>\n",
       "      <td>...</td>\n",
       "    </tr>\n",
       "    <tr>\n",
       "      <th>166321</th>\n",
       "      <td>2022-03-01</td>\n",
       "      <td>ZWE</td>\n",
       "      <td>Zimbabwe</td>\n",
       "      <td>Africa</td>\n",
       "      <td>491.0</td>\n",
       "      <td>236871.0</td>\n",
       "      <td>0.0</td>\n",
       "      <td>5395.0</td>\n",
       "      <td>7901360.0</td>\n",
       "      <td>4365856.0</td>\n",
       "      <td>3399915.0</td>\n",
       "    </tr>\n",
       "    <tr>\n",
       "      <th>166322</th>\n",
       "      <td>2022-03-02</td>\n",
       "      <td>ZWE</td>\n",
       "      <td>Zimbabwe</td>\n",
       "      <td>Africa</td>\n",
       "      <td>632.0</td>\n",
       "      <td>237503.0</td>\n",
       "      <td>1.0</td>\n",
       "      <td>5396.0</td>\n",
       "      <td>7910740.0</td>\n",
       "      <td>4368726.0</td>\n",
       "      <td>3402434.0</td>\n",
       "    </tr>\n",
       "    <tr>\n",
       "      <th>166323</th>\n",
       "      <td>2022-03-03</td>\n",
       "      <td>ZWE</td>\n",
       "      <td>Zimbabwe</td>\n",
       "      <td>Africa</td>\n",
       "      <td>0.0</td>\n",
       "      <td>237503.0</td>\n",
       "      <td>0.0</td>\n",
       "      <td>5396.0</td>\n",
       "      <td>7921113.0</td>\n",
       "      <td>4372925.0</td>\n",
       "      <td>3406482.0</td>\n",
       "    </tr>\n",
       "    <tr>\n",
       "      <th>166324</th>\n",
       "      <td>2022-03-04</td>\n",
       "      <td>ZWE</td>\n",
       "      <td>Zimbabwe</td>\n",
       "      <td>Africa</td>\n",
       "      <td>1236.0</td>\n",
       "      <td>238739.0</td>\n",
       "      <td>1.0</td>\n",
       "      <td>5397.0</td>\n",
       "      <td>7930621.0</td>\n",
       "      <td>4374896.0</td>\n",
       "      <td>3408609.0</td>\n",
       "    </tr>\n",
       "    <tr>\n",
       "      <th>166325</th>\n",
       "      <td>2022-03-05</td>\n",
       "      <td>ZWE</td>\n",
       "      <td>Zimbabwe</td>\n",
       "      <td>Africa</td>\n",
       "      <td>280.0</td>\n",
       "      <td>239019.0</td>\n",
       "      <td>0.0</td>\n",
       "      <td>5397.0</td>\n",
       "      <td>7936145.0</td>\n",
       "      <td>4377373.0</td>\n",
       "      <td>3410340.0</td>\n",
       "    </tr>\n",
       "  </tbody>\n",
       "</table>\n",
       "<p>166326 rows × 11 columns</p>\n",
       "</div>"
      ],
      "text/plain": [
       "              date iso_code     location continent  new_cases  total_cases  \\\n",
       "0       2020-02-24      AFG  Afghanistan      Asia        5.0          5.0   \n",
       "1       2020-02-25      AFG  Afghanistan      Asia        0.0          5.0   \n",
       "2       2020-02-26      AFG  Afghanistan      Asia        0.0          5.0   \n",
       "3       2020-02-27      AFG  Afghanistan      Asia        0.0          5.0   \n",
       "4       2020-02-28      AFG  Afghanistan      Asia        0.0          5.0   \n",
       "...            ...      ...          ...       ...        ...          ...   \n",
       "166321  2022-03-01      ZWE     Zimbabwe    Africa      491.0     236871.0   \n",
       "166322  2022-03-02      ZWE     Zimbabwe    Africa      632.0     237503.0   \n",
       "166323  2022-03-03      ZWE     Zimbabwe    Africa        0.0     237503.0   \n",
       "166324  2022-03-04      ZWE     Zimbabwe    Africa     1236.0     238739.0   \n",
       "166325  2022-03-05      ZWE     Zimbabwe    Africa      280.0     239019.0   \n",
       "\n",
       "        new_deaths  total_deaths  total_vaccinations  people_vaccinated  \\\n",
       "0              NaN           NaN                 NaN                NaN   \n",
       "1              NaN           NaN                 NaN                NaN   \n",
       "2              NaN           NaN                 NaN                NaN   \n",
       "3              NaN           NaN                 NaN                NaN   \n",
       "4              NaN           NaN                 NaN                NaN   \n",
       "...            ...           ...                 ...                ...   \n",
       "166321         0.0        5395.0           7901360.0          4365856.0   \n",
       "166322         1.0        5396.0           7910740.0          4368726.0   \n",
       "166323         0.0        5396.0           7921113.0          4372925.0   \n",
       "166324         1.0        5397.0           7930621.0          4374896.0   \n",
       "166325         0.0        5397.0           7936145.0          4377373.0   \n",
       "\n",
       "        people_fully_vaccinated  \n",
       "0                           NaN  \n",
       "1                           NaN  \n",
       "2                           NaN  \n",
       "3                           NaN  \n",
       "4                           NaN  \n",
       "...                         ...  \n",
       "166321                3399915.0  \n",
       "166322                3402434.0  \n",
       "166323                3406482.0  \n",
       "166324                3408609.0  \n",
       "166325                3410340.0  \n",
       "\n",
       "[166326 rows x 11 columns]"
      ]
     },
     "execution_count": 9,
     "metadata": {},
     "output_type": "execute_result"
    }
   ],
   "source": [
    "first_merge_df\n"
   ]
  },
  {
   "cell_type": "code",
   "execution_count": 10,
   "id": "16fe70a7",
   "metadata": {},
   "outputs": [
    {
     "data": {
      "text/plain": [
       "(153998, 13)"
      ]
     },
     "execution_count": 10,
     "metadata": {},
     "output_type": "execute_result"
    }
   ],
   "source": [
    "second_merge_df = pd.merge(first_merge_df, world_statistics, left_on=['iso_code'], right_on=['CCA3'],how='inner')\n",
    "columns_to_drop = ['CCA3']\n",
    "# Dropping column that would become a duplicate\n",
    "second_merge_df = second_merge_df.drop(columns=columns_to_drop)\n",
    "second_merge_df.shape"
   ]
  },
  {
   "cell_type": "code",
   "execution_count": 11,
   "id": "e93fa5b6",
   "metadata": {},
   "outputs": [
    {
     "name": "stdout",
     "output_type": "stream",
     "text": [
      "<class 'pandas.core.frame.DataFrame'>\n",
      "RangeIndex: 153998 entries, 0 to 153997\n",
      "Data columns (total 13 columns):\n",
      " #   Column                   Non-Null Count   Dtype  \n",
      "---  ------                   --------------   -----  \n",
      " 0   date                     153998 non-null  object \n",
      " 1   iso_code                 153998 non-null  object \n",
      " 2   location                 153998 non-null  object \n",
      " 3   continent                153998 non-null  object \n",
      " 4   new_cases                151207 non-null  float64\n",
      " 5   total_cases              151374 non-null  float64\n",
      " 6   new_deaths               134297 non-null  float64\n",
      " 7   total_deaths             134459 non-null  float64\n",
      " 8   total_vaccinations       39644 non-null   float64\n",
      " 9   people_vaccinated        37430 non-null   float64\n",
      " 10  people_fully_vaccinated  34889 non-null   float64\n",
      " 11  2020 Population          153998 non-null  int64  \n",
      " 12  2022 Population          153998 non-null  int64  \n",
      "dtypes: float64(7), int64(2), object(4)\n",
      "memory usage: 15.3+ MB\n"
     ]
    }
   ],
   "source": [
    "second_merge_df.info()"
   ]
  },
  {
   "cell_type": "markdown",
   "id": "215fd11f",
   "metadata": {},
   "source": [
    "### Applying forward fill:"
   ]
  },
  {
   "cell_type": "code",
   "execution_count": 12,
   "id": "37803c1d",
   "metadata": {},
   "outputs": [],
   "source": [
    "#selecting all columns with numeric value that are a sum of the values that came before them:\n",
    "columns_to_ffill_by_country = ['total_cases', 'total_deaths','total_vaccinations','people_vaccinated','people_fully_vaccinated']\n",
    "merged_with_groupby_ffill = second_merge_df\n",
    "merged_with_groupby_ffill[columns_to_ffill_by_country] = second_merge_df.groupby('iso_code')[columns_to_ffill_by_country].ffill()\n"
   ]
  },
  {
   "cell_type": "code",
   "execution_count": 13,
   "id": "a1e6f781",
   "metadata": {},
   "outputs": [
    {
     "name": "stdout",
     "output_type": "stream",
     "text": [
      "<class 'pandas.core.frame.DataFrame'>\n",
      "RangeIndex: 153998 entries, 0 to 153997\n",
      "Data columns (total 13 columns):\n",
      " #   Column                   Non-Null Count   Dtype  \n",
      "---  ------                   --------------   -----  \n",
      " 0   date                     153998 non-null  object \n",
      " 1   iso_code                 153998 non-null  object \n",
      " 2   location                 153998 non-null  object \n",
      " 3   continent                153998 non-null  object \n",
      " 4   new_cases                151207 non-null  float64\n",
      " 5   total_cases              151374 non-null  float64\n",
      " 6   new_deaths               134297 non-null  float64\n",
      " 7   total_deaths             134459 non-null  float64\n",
      " 8   total_vaccinations       80190 non-null   float64\n",
      " 9   people_vaccinated        79504 non-null   float64\n",
      " 10  people_fully_vaccinated  69978 non-null   float64\n",
      " 11  2020 Population          153998 non-null  int64  \n",
      " 12  2022 Population          153998 non-null  int64  \n",
      "dtypes: float64(7), int64(2), object(4)\n",
      "memory usage: 15.3+ MB\n"
     ]
    }
   ],
   "source": [
    "merged_with_groupby_ffill.info()"
   ]
  },
  {
   "cell_type": "markdown",
   "id": "1c83a400",
   "metadata": {},
   "source": [
    "### Filling NaN values with 0, after making sure that that wouldn't affect my data"
   ]
  },
  {
   "cell_type": "code",
   "execution_count": 14,
   "id": "dc9f006a",
   "metadata": {},
   "outputs": [
    {
     "name": "stdout",
     "output_type": "stream",
     "text": [
      "<class 'pandas.core.frame.DataFrame'>\n",
      "RangeIndex: 153998 entries, 0 to 153997\n",
      "Data columns (total 13 columns):\n",
      " #   Column                   Non-Null Count   Dtype  \n",
      "---  ------                   --------------   -----  \n",
      " 0   date                     153998 non-null  object \n",
      " 1   iso_code                 153998 non-null  object \n",
      " 2   location                 153998 non-null  object \n",
      " 3   continent                153998 non-null  object \n",
      " 4   new_cases                153998 non-null  float64\n",
      " 5   total_cases              153998 non-null  float64\n",
      " 6   new_deaths               153998 non-null  float64\n",
      " 7   total_deaths             153998 non-null  float64\n",
      " 8   total_vaccinations       153998 non-null  float64\n",
      " 9   people_vaccinated        153998 non-null  float64\n",
      " 10  people_fully_vaccinated  153998 non-null  float64\n",
      " 11  2020 Population          153998 non-null  int64  \n",
      " 12  2022 Population          153998 non-null  int64  \n",
      "dtypes: float64(7), int64(2), object(4)\n",
      "memory usage: 15.3+ MB\n"
     ]
    }
   ],
   "source": [
    "merged_with_groupby_ffill_no_nan = merged_with_groupby_ffill.fillna(0)\n",
    "merged_with_groupby_ffill_no_nan.info()"
   ]
  },
  {
   "cell_type": "code",
   "execution_count": 15,
   "id": "3e56b3d7",
   "metadata": {},
   "outputs": [
    {
     "data": {
      "text/plain": [
       "array([], dtype=object)"
      ]
     },
     "execution_count": 15,
     "metadata": {},
     "output_type": "execute_result"
    }
   ],
   "source": [
    "#When I use inner merge I can get rid of all of those \"Countries\"\n",
    "#OWID stands for Our World In Data and it's one of our sources for the dataset\n",
    "result = second_merge_df[second_merge_df['2020 Population'].isna()]['iso_code'].unique()\n",
    "result"
   ]
  },
  {
   "cell_type": "code",
   "execution_count": 16,
   "id": "227af210",
   "metadata": {},
   "outputs": [
    {
     "name": "stdout",
     "output_type": "stream",
     "text": [
      "<class 'pandas.core.frame.DataFrame'>\n",
      "RangeIndex: 153998 entries, 0 to 153997\n",
      "Data columns (total 13 columns):\n",
      " #   Column                   Non-Null Count   Dtype  \n",
      "---  ------                   --------------   -----  \n",
      " 0   date                     153998 non-null  object \n",
      " 1   iso_code                 153998 non-null  object \n",
      " 2   location                 153998 non-null  object \n",
      " 3   continent                153998 non-null  object \n",
      " 4   new_cases                151207 non-null  float64\n",
      " 5   total_cases              151374 non-null  float64\n",
      " 6   new_deaths               134297 non-null  float64\n",
      " 7   total_deaths             134459 non-null  float64\n",
      " 8   total_vaccinations       80190 non-null   float64\n",
      " 9   people_vaccinated        79504 non-null   float64\n",
      " 10  people_fully_vaccinated  69978 non-null   float64\n",
      " 11  2020 Population          153998 non-null  int64  \n",
      " 12  2022 Population          153998 non-null  int64  \n",
      "dtypes: float64(7), int64(2), object(4)\n",
      "memory usage: 15.3+ MB\n"
     ]
    }
   ],
   "source": [
    "second_merge_df.info()\n"
   ]
  },
  {
   "cell_type": "markdown",
   "id": "5416f34c",
   "metadata": {},
   "source": [
    "## Describing my DFs"
   ]
  },
  {
   "cell_type": "code",
   "execution_count": 17,
   "id": "1fcffd14",
   "metadata": {},
   "outputs": [
    {
     "name": "stdout",
     "output_type": "stream",
     "text": [
      "<class 'pandas.core.frame.DataFrame'>\n",
      "RangeIndex: 166326 entries, 0 to 166325\n",
      "Data columns (total 11 columns):\n",
      " #   Column                   Non-Null Count   Dtype  \n",
      "---  ------                   --------------   -----  \n",
      " 0   date                     166326 non-null  object \n",
      " 1   iso_code                 166326 non-null  object \n",
      " 2   location                 166326 non-null  object \n",
      " 3   continent                156370 non-null  object \n",
      " 4   new_cases                163133 non-null  float64\n",
      " 5   total_cases              163293 non-null  float64\n",
      " 6   new_deaths               145487 non-null  float64\n",
      " 7   total_deaths             145451 non-null  float64\n",
      " 8   total_vaccinations       39897 non-null   float64\n",
      " 9   people_vaccinated        37661 non-null   float64\n",
      " 10  people_fully_vaccinated  35123 non-null   float64\n",
      "dtypes: float64(7), object(4)\n",
      "memory usage: 14.0+ MB\n",
      "<class 'pandas.core.frame.DataFrame'>\n",
      "RangeIndex: 153998 entries, 0 to 153997\n",
      "Data columns (total 13 columns):\n",
      " #   Column                   Non-Null Count   Dtype  \n",
      "---  ------                   --------------   -----  \n",
      " 0   date                     153998 non-null  object \n",
      " 1   iso_code                 153998 non-null  object \n",
      " 2   location                 153998 non-null  object \n",
      " 3   continent                153998 non-null  object \n",
      " 4   new_cases                151207 non-null  float64\n",
      " 5   total_cases              151374 non-null  float64\n",
      " 6   new_deaths               134297 non-null  float64\n",
      " 7   total_deaths             134459 non-null  float64\n",
      " 8   total_vaccinations       80190 non-null   float64\n",
      " 9   people_vaccinated        79504 non-null   float64\n",
      " 10  people_fully_vaccinated  69978 non-null   float64\n",
      " 11  2020 Population          153998 non-null  int64  \n",
      " 12  2022 Population          153998 non-null  int64  \n",
      "dtypes: float64(7), int64(2), object(4)\n",
      "memory usage: 15.3+ MB\n",
      "<class 'pandas.core.frame.DataFrame'>\n",
      "RangeIndex: 153998 entries, 0 to 153997\n",
      "Data columns (total 13 columns):\n",
      " #   Column                   Non-Null Count   Dtype  \n",
      "---  ------                   --------------   -----  \n",
      " 0   date                     153998 non-null  object \n",
      " 1   iso_code                 153998 non-null  object \n",
      " 2   location                 153998 non-null  object \n",
      " 3   continent                153998 non-null  object \n",
      " 4   new_cases                153998 non-null  float64\n",
      " 5   total_cases              153998 non-null  float64\n",
      " 6   new_deaths               153998 non-null  float64\n",
      " 7   total_deaths             153998 non-null  float64\n",
      " 8   total_vaccinations       153998 non-null  float64\n",
      " 9   people_vaccinated        153998 non-null  float64\n",
      " 10  people_fully_vaccinated  153998 non-null  float64\n",
      " 11  2020 Population          153998 non-null  int64  \n",
      " 12  2022 Population          153998 non-null  int64  \n",
      "dtypes: float64(7), int64(2), object(4)\n",
      "memory usage: 15.3+ MB\n"
     ]
    }
   ],
   "source": [
    "first_merge_df.info()\n",
    "second_merge_df.info()\n",
    "merged_with_groupby_ffill_no_nan.info()"
   ]
  },
  {
   "cell_type": "markdown",
   "id": "94d0d582",
   "metadata": {},
   "source": [
    "## Converting float values to int"
   ]
  },
  {
   "cell_type": "code",
   "execution_count": 18,
   "id": "344ed4f8",
   "metadata": {},
   "outputs": [],
   "source": [
    "final_df = merged_with_groupby_ffill_no_nan\n",
    "columns_to_convert= [\"new_cases\",\"total_cases\",\"new_deaths\",\n",
    "                     \"total_deaths\",\"total_vaccinations\",\"people_vaccinated\",\n",
    "                     \"people_fully_vaccinated\"]\n",
    "final_df[columns_to_convert] = merged_with_groupby_ffill_no_nan[columns_to_convert].astype(int)"
   ]
  },
  {
   "cell_type": "code",
   "execution_count": null,
   "id": "75eaa61f",
   "metadata": {},
   "outputs": [],
   "source": [
    "import matplotlib.pyplot as plt"
   ]
  },
  {
   "cell_type": "markdown",
   "id": "49b1d00b",
   "metadata": {},
   "source": [
    "### plotting NaN values"
   ]
  },
  {
   "cell_type": "code",
   "execution_count": null,
   "id": "3a6a504b",
   "metadata": {},
   "outputs": [],
   "source": [
    "count1 = covid_data.isna().sum()\n",
    "count2 = vaccines_data.isna().sum()\n",
    "\n",
    "fig, ax = plt.subplots(1, 2, figsize=(16, 4))\n",
    "# Plotting\n",
    "count1.plot(kind='bar',ax=ax[0],)\n",
    "ax[0].tick_params(axis='x' ,rotation=45)\n",
    "ax[0].set_title('Number of NaN values per feature First Dataset')\n",
    "ax[0].set_xlabel('Features')\n",
    "ax[0].set_ylabel('Number of NaN values')\n",
    "\n",
    "\n",
    "count2.plot(kind='bar',ax=ax[1],)\n",
    "ax[1].tick_params(axis='x', rotation=45)\n",
    "ax[1].set_title('Number of NaN values per feature Second Dataset')\n",
    "ax[1].set_xlabel('Features')\n",
    "ax[1].set_ylabel('Number of NaN values')\n",
    "\n",
    "plt.show()"
   ]
  },
  {
   "cell_type": "code",
   "execution_count": null,
   "id": "16b02a5c",
   "metadata": {},
   "outputs": [],
   "source": [
    "nan_count1 = merged_with_groupby_ffill.isna().sum()\n",
    "nan_count2 = final_df.isna().sum()\n",
    "\n",
    "fig, ax = plt.subplots(1, 2, figsize=(16, 4))\n",
    "# Plotting\n",
    "nan_count1.plot(kind='bar',ax=ax[0],color= \"green\")\n",
    "ax[0].tick_params(axis='x' ,rotation=45)\n",
    "ax[0].set_title('Number of NaN values per feature before filling NaN')\n",
    "ax[0].set_xlabel('Features')\n",
    "ax[0].set_ylabel('Number of NaN values')\n",
    "\n",
    "\n",
    "nan_count2.plot(kind='bar',ax=ax[1],color= \"green\")\n",
    "ax[1].tick_params(axis='x', rotation=45)\n",
    "ax[1].set_title('Number of NaN values per feature after filling NaN')\n",
    "ax[1].set_xlabel('Features')\n",
    "ax[1].set_ylabel('Number of NaN values')\n",
    "\n",
    "plt.show()"
   ]
  },
  {
   "cell_type": "markdown",
   "id": "63d430ef",
   "metadata": {},
   "source": [
    "## finding largest values of a feature by country - top 10"
   ]
  },
  {
   "cell_type": "code",
   "execution_count": null,
   "id": "5722bce0",
   "metadata": {},
   "outputs": [],
   "source": [
    "feature_largest = \"total_deaths\"\n",
    "sorted_df= final_df.sort_values(by=[feature_largest], ascending=[False])\n",
    "top_10_countries_df = sorted_df.drop_duplicates(subset='iso_code').head(10)\n",
    "top_10_countries_df"
   ]
  },
  {
   "cell_type": "markdown",
   "id": "6666db2e",
   "metadata": {},
   "source": [
    "## Dropping columns that had negative values (because in our case they don't make any sense, you cannot have a negative number of vaccines, I believe data was entered incorrectly)"
   ]
  },
  {
   "cell_type": "code",
   "execution_count": null,
   "id": "da56c2ca",
   "metadata": {},
   "outputs": [],
   "source": [
    "final_df = final_df[final_df['total_vaccinations'] >= 0]\n",
    "final_df.describe()"
   ]
  },
  {
   "cell_type": "markdown",
   "id": "0349525f",
   "metadata": {},
   "source": [
    "## checking unique values on the continent feature"
   ]
  },
  {
   "cell_type": "code",
   "execution_count": null,
   "id": "d655af92",
   "metadata": {},
   "outputs": [],
   "source": [
    "final_df[\"continent\"].unique()"
   ]
  },
  {
   "cell_type": "markdown",
   "id": "13cf7418",
   "metadata": {},
   "source": [
    "## Applying one hot encoding for continent variable and creating a new dataframe for it."
   ]
  },
  {
   "cell_type": "code",
   "execution_count": null,
   "id": "e29bdea3",
   "metadata": {},
   "outputs": [],
   "source": [
    "df_one_hot_regions = pd.get_dummies(final_df['continent'], prefix='continent')\n",
    "final_df_one_hot = pd.concat([final_df, df_one_hot_regions], axis=1)\n",
    "final_df_one_hot.shape"
   ]
  },
  {
   "cell_type": "code",
   "execution_count": null,
   "id": "107fd71a",
   "metadata": {},
   "outputs": [],
   "source": [
    "final_df_one_hot.sample(5)"
   ]
  },
  {
   "cell_type": "code",
   "execution_count": null,
   "id": "7ffc195b",
   "metadata": {},
   "outputs": [],
   "source": [
    "#pip install --upgrade scikit-learn"
   ]
  },
  {
   "cell_type": "markdown",
   "id": "60738ae7",
   "metadata": {},
   "source": [
    "## Scaling and standardizing data"
   ]
  },
  {
   "cell_type": "code",
   "execution_count": null,
   "id": "2e5b9c87",
   "metadata": {},
   "outputs": [],
   "source": [
    "from sklearn.preprocessing import StandardScaler, MinMaxScaler, RobustScaler"
   ]
  },
  {
   "cell_type": "code",
   "execution_count": null,
   "id": "d739f827",
   "metadata": {},
   "outputs": [],
   "source": [
    "final_df_numeric_only = final_df.drop([\"date\",\"iso_code\",\"location\",\"continent\"], axis=1)\n",
    "final_df_numeric_only"
   ]
  },
  {
   "cell_type": "code",
   "execution_count": null,
   "id": "4f13c5ad",
   "metadata": {},
   "outputs": [],
   "source": [
    "#https://www.turing.com/kb/data-normalization-with-python-scikit-learn-tips-tricks-for-data-science\n",
    "\n",
    "#Min-Max normalization\n",
    "#https://scikit-learn.org/stable/modules/generated/sklearn.preprocessing.MinMaxScaler.html\n",
    "min_max_normalization = MinMaxScaler()\n",
    "df_min_max = pd.DataFrame(min_max_normalization.fit_transform(final_df_numeric_only), columns=final_df_numeric_only.columns)\n",
    "\n",
    "#z-score standardization\n",
    "#https://scikit-learn.org/stable/modules/preprocessing#standardization-or-mean-removal-and-variance-scaling\n",
    "z_score_standardization = StandardScaler()\n",
    "df_z_score = pd.DataFrame(z_score_standardization.fit_transform(final_df_numeric_only), columns=final_df_numeric_only.columns)\n",
    "\n",
    "#Robust scaler\n",
    "#https://scikit-learn.org/stable/modules/generated/sklearn.preprocessing.robust_scale.html\n",
    "robust_scaler = RobustScaler()\n",
    "df_robust_scaler = pd.DataFrame(robust_scaler.fit_transform(final_df_numeric_only), columns=final_df_numeric_only.columns)\n",
    "\n",
    "#https://www.turing.com/kb/data-normalization-with-python-scikit-learn-tips-tricks-for-data-science"
   ]
  },
  {
   "cell_type": "code",
   "execution_count": null,
   "id": "86d21a53",
   "metadata": {},
   "outputs": [],
   "source": [
    "final_df_numeric_only.describe()"
   ]
  },
  {
   "cell_type": "code",
   "execution_count": null,
   "id": "c95f358e",
   "metadata": {},
   "outputs": [],
   "source": [
    "df_robust_scaler.describe()"
   ]
  },
  {
   "cell_type": "markdown",
   "id": "1a6df536",
   "metadata": {},
   "source": [
    "## PCA"
   ]
  },
  {
   "cell_type": "code",
   "execution_count": null,
   "id": "a4e3abec",
   "metadata": {},
   "outputs": [],
   "source": [
    "from sklearn.decomposition import PCA"
   ]
  },
  {
   "cell_type": "code",
   "execution_count": null,
   "id": "7e0e5226",
   "metadata": {},
   "outputs": [],
   "source": [
    "#Creating an instance of PCA and setting how many components I want\n",
    "pca = PCA(n_components=2)\n",
    "#I have already normalized my data in the previous question so I can use the same dataframe\n",
    "df_pca = pca.fit_transform(df_z_score)"
   ]
  },
  {
   "cell_type": "code",
   "execution_count": null,
   "id": "d35a49b7",
   "metadata": {},
   "outputs": [],
   "source": [
    "#df with the Principal Components from first to last\n",
    "df_pca = pd.DataFrame(data=df_pca, columns=['pc1','pc2'])\n",
    "\n",
    "#here we will see how each variable contributes to the PCA\n",
    "loads_df = pd.DataFrame(pca.components_.T, columns=['PC1_load', 'PC2_load'], index=final_df_numeric_only.columns)\n",
    "\n"
   ]
  },
  {
   "cell_type": "code",
   "execution_count": null,
   "id": "e61f309f",
   "metadata": {},
   "outputs": [],
   "source": [
    "df_pca"
   ]
  },
  {
   "cell_type": "code",
   "execution_count": null,
   "id": "83e8709c",
   "metadata": {},
   "outputs": [],
   "source": [
    "loads_df"
   ]
  },
  {
   "cell_type": "code",
   "execution_count": null,
   "id": "4d477177",
   "metadata": {},
   "outputs": [],
   "source": [
    "#ploting my pca dataframe\n",
    "fig= plt.figure(figsize=(20, 6))\n",
    "\n",
    "plt.scatter(df_pca[\"pc1\"], df_pca[\"pc2\"])\n",
    "plt.title(f'Scatter Plot of \"pc1\" vs \"pc2\"')\n",
    "plt.xlabel(\"pc1\")\n",
    "plt.ylabel(\"pc2\")\n",
    "\n",
    "plt.show()\n"
   ]
  },
  {
   "cell_type": "code",
   "execution_count": null,
   "id": "f1426cfc",
   "metadata": {},
   "outputs": [],
   "source": [
    "#dataframe used for my PCA\n",
    "df_z_score.info()"
   ]
  },
  {
   "cell_type": "code",
   "execution_count": null,
   "id": "1bdea351",
   "metadata": {},
   "outputs": [],
   "source": [
    "#PCA dataframe\n",
    "df_pca.info()"
   ]
  },
  {
   "cell_type": "code",
   "execution_count": null,
   "id": "74e6e9bc",
   "metadata": {},
   "outputs": [],
   "source": [
    "# explained variance ratio per component \n",
    "print(\"Variance Ratio in %:\")\n",
    "sum_components=0\n",
    "for i, ratio in enumerate(pca.explained_variance_ratio_):\n",
    "    sum_components = sum_components+ratio\n",
    "    print(f\"Principal component {i + 1}: {ratio:.3f}\")\n",
    "print(f\"Total variance captured: {sum_components}\")"
   ]
  },
  {
   "cell_type": "code",
   "execution_count": null,
   "id": "a13be062",
   "metadata": {},
   "outputs": [],
   "source": [
    "# Plotting\n",
    "fig= plt.figure(figsize=(11, 6))\n",
    "columnx_1 = 'total_vaccinations'\n",
    "columny_1 = 'new_deaths'\n",
    "plt.scatter(final_df_numeric_only[columnx_1], final_df_numeric_only[columny_1])\n",
    "plt.title(f'Scatter Plot of {columnx_1} vs {columny_1}')\n",
    "plt.xlabel(columnx_1)\n",
    "plt.ylabel(columny_1)\n",
    "\n",
    "plt.show()\n"
   ]
  },
  {
   "cell_type": "markdown",
   "id": "ed2c8a94",
   "metadata": {},
   "source": [
    "### Exploring correlations between features"
   ]
  },
  {
   "cell_type": "code",
   "execution_count": null,
   "id": "6c5d3d46",
   "metadata": {},
   "outputs": [],
   "source": [
    "import seaborn as sns\n",
    "#https://medium.com/@szabo.bibor/how-to-create-a-seaborn-correlation-heatmap-in-python-834c0686b88e\n",
    "heat_plot_correlational = final_df_numeric_only.corr()\n",
    "sns.heatmap(heat_plot_correlational, annot=True, cmap='coolwarm')\n",
    "plt.show()"
   ]
  },
  {
   "cell_type": "code",
   "execution_count": null,
   "id": "65b296ed",
   "metadata": {},
   "outputs": [],
   "source": [
    "#defining features to be analyzed\n",
    "columnx_1 = 'total_cases'\n",
    "columny_1 = 'total_deaths'\n",
    "columnx_2 = 'people_fully_vaccinated'\n",
    "columny_2 = 'new_deaths'\n",
    "#2 figures\n",
    "fig, ax = plt.subplots(1, 2, figsize=(22, 8))\n",
    "#plots\n",
    "ax[0].scatter(final_df_numeric_only[columnx_1], final_df_numeric_only[columny_1])\n",
    "ax[0].set_title(f'Scatter Plot of {columnx_1} vs {columny_1}')\n",
    "ax[0].set_xlabel(columnx_1)\n",
    "ax[0].set_ylabel(columny_1)\n",
    "\n",
    "ax[1].scatter(final_df_numeric_only[columnx_2], final_df_numeric_only[columny_2])\n",
    "ax[1].set_title(f'Scatter Plot of {columnx_2} vs {columny_2}')\n",
    "ax[1].set_xlabel(columnx_2)\n",
    "ax[1].set_ylabel(columny_2)\n",
    "\n",
    "plt.show()"
   ]
  },
  {
   "cell_type": "markdown",
   "id": "d6630485",
   "metadata": {},
   "source": [
    "## low correlation"
   ]
  },
  {
   "cell_type": "code",
   "execution_count": null,
   "id": "90a57f7a",
   "metadata": {},
   "outputs": [],
   "source": [
    "# Plotting\n",
    "fig= plt.figure(figsize=(11, 6))\n",
    "columnx_1 = 'total_vaccinations'\n",
    "columny_1 = 'new_deaths'\n",
    "plt.scatter(final_df_numeric_only[columnx_1], final_df_numeric_only[columny_1])\n",
    "plt.title(f'Scatter Plot of {columnx_1} vs {columny_1}')\n",
    "plt.xlabel(columnx_1)\n",
    "plt.ylabel(columny_1)\n",
    "\n",
    "plt.show()\n"
   ]
  },
  {
   "cell_type": "markdown",
   "id": "b1e3ff47",
   "metadata": {},
   "source": [
    "## high correlation"
   ]
  },
  {
   "cell_type": "code",
   "execution_count": null,
   "id": "00ef9ea1",
   "metadata": {},
   "outputs": [],
   "source": [
    "# Plotting\n",
    "fig= plt.figure(figsize=(11, 6))\n",
    "columnx_1 = 'people_vaccinated'\n",
    "columny_1 = 'total_vaccinations'\n",
    "plt.scatter(final_df_numeric_only[columnx_1], final_df_numeric_only[columny_1])\n",
    "plt.title(f'Scatter Plot of {columnx_1} vs {columny_1}')\n",
    "plt.xlabel(columnx_1)\n",
    "plt.ylabel(columny_1)\n",
    "\n",
    "plt.show()\n"
   ]
  },
  {
   "cell_type": "markdown",
   "id": "408af782",
   "metadata": {},
   "source": [
    "In case I want to download any of my dataframes as csv"
   ]
  },
  {
   "cell_type": "code",
   "execution_count": null,
   "id": "15c4dc19",
   "metadata": {},
   "outputs": [],
   "source": [
    "#final_df.to_csv('final.csv', index=False)"
   ]
  }
 ],
 "metadata": {
  "kernelspec": {
   "display_name": "Python 3 (ipykernel)",
   "language": "python",
   "name": "python3"
  },
  "language_info": {
   "codemirror_mode": {
    "name": "ipython",
    "version": 3
   },
   "file_extension": ".py",
   "mimetype": "text/x-python",
   "name": "python",
   "nbconvert_exporter": "python",
   "pygments_lexer": "ipython3",
   "version": "3.9.7"
  }
 },
 "nbformat": 4,
 "nbformat_minor": 5
}
